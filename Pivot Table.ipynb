{
 "cells": [
  {
   "cell_type": "markdown",
   "id": "a2376355",
   "metadata": {},
   "source": [
    "### Pivot Table"
   ]
  },
  {
   "cell_type": "markdown",
   "id": "9930112d",
   "metadata": {},
   "source": [
    "A pivot table é uma ferramenta indispensável quando você precisa resumir, explorar e analisar dados complexos. Ela é especialmente útil quando você tem grandes conjuntos de dados e deseja extrair insights relevantes. Vamos ilustrar isso com um exemplo."
   ]
  },
  {
   "cell_type": "code",
   "execution_count": 1,
   "id": "df9dd9a9",
   "metadata": {},
   "outputs": [],
   "source": [
    "# importantdo a biblioteca\n",
    "\n",
    "import pandas as pd"
   ]
  },
  {
   "cell_type": "code",
   "execution_count": 2,
   "id": "54944425",
   "metadata": {},
   "outputs": [],
   "source": [
    "# criando um DataFrame de exemplo\n",
    "\n",
    "dados = {\n",
    "    'Loja':['Loja A', 'Loja B', 'Loja A', 'Loja B', 'Loja A', 'Loja B'],\n",
    "    'Produto': ['Produto 1', 'Produto 1', 'Produto 2', 'Produto 2', 'Produto 1', 'Produto 2'],\n",
    "    'Vendas': [10,20,15,25,20,30]\n",
    "}"
   ]
  },
  {
   "cell_type": "code",
   "execution_count": 3,
   "id": "987d0316",
   "metadata": {},
   "outputs": [],
   "source": [
    "# transformando em um dataframe\n",
    "\n",
    "df = pd.DataFrame(dados)"
   ]
  },
  {
   "cell_type": "code",
   "execution_count": 4,
   "id": "bfd1c478",
   "metadata": {},
   "outputs": [
    {
     "name": "stdout",
     "output_type": "stream",
     "text": [
      "DataFrame original:\n",
      "     Loja    Produto  Vendas\n",
      "0  Loja A  Produto 1      10\n",
      "1  Loja B  Produto 1      20\n",
      "2  Loja A  Produto 2      15\n",
      "3  Loja B  Produto 2      25\n",
      "4  Loja A  Produto 1      20\n",
      "5  Loja B  Produto 2      30\n"
     ]
    }
   ],
   "source": [
    "# Imprimir o DataFrame original\n",
    "\n",
    "print(\"DataFrame original:\")\n",
    "print(df)"
   ]
  },
  {
   "cell_type": "code",
   "execution_count": 9,
   "id": "4ea430aa",
   "metadata": {},
   "outputs": [],
   "source": [
    "# Criar a pivot table no Pandas\n",
    "\n",
    "pivot_table = df.pivot_table(values='Vendas', index='Loja', columns='Produto', aggfunc='sum')"
   ]
  },
  {
   "cell_type": "markdown",
   "id": "e7809496",
   "metadata": {},
   "source": [
    "Após aplicar a função Pivot Table do pandas no DataFrame original, conseguimos uma nova tabela que nos fornece um resumo mais acessível dos dados. Esta tabela pivotada é organizada de maneira que cada linha representa uma loja e cada coluna representa um produto. As células da tabela são preenchidas com a soma total das vendas de cada produto em cada loja."
   ]
  },
  {
   "cell_type": "code",
   "execution_count": 7,
   "id": "26a4ecea",
   "metadata": {},
   "outputs": [
    {
     "name": "stdout",
     "output_type": "stream",
     "text": [
      "\n",
      "Pivot Table:\n",
      "Produto  Produto 1  Produto 2\n",
      "Loja                         \n",
      "Loja A          30         15\n",
      "Loja B          20         55\n"
     ]
    }
   ],
   "source": [
    "# Imprimir a pivot table no Pandas\n",
    "\n",
    "print(\"\\nPivot Table:\")\n",
    "print(pivot_table)"
   ]
  }
 ],
 "metadata": {
  "kernelspec": {
   "display_name": "Python 3",
   "language": "python",
   "name": "python3"
  },
  "language_info": {
   "codemirror_mode": {
    "name": "ipython",
    "version": 3
   },
   "file_extension": ".py",
   "mimetype": "text/x-python",
   "name": "python",
   "nbconvert_exporter": "python",
   "pygments_lexer": "ipython3",
   "version": "3.8.8"
  }
 },
 "nbformat": 4,
 "nbformat_minor": 5
}
