{
 "cells": [
  {
   "cell_type": "code",
   "execution_count": 1,
   "id": "260674c2",
   "metadata": {},
   "outputs": [
    {
     "name": "stdout",
     "output_type": "stream",
     "text": [
      "Digite uma nota entre zero e 10: 15\n",
      "Informe um valor válido: 14\n",
      "Informe um valor válido: -1\n",
      "Informe um valor válido: 10\n"
     ]
    }
   ],
   "source": [
    "nota = float(input(\"Digite uma nota entre zero e 10: \"))\n",
    "\n",
    "while nota > 10 or nota < 0:\n",
    "    nota = float(input(\"Informe um valor válido: \"))"
   ]
  },
  {
   "cell_type": "code",
   "execution_count": 4,
   "id": "949174be",
   "metadata": {},
   "outputs": [
    {
     "name": "stdout",
     "output_type": "stream",
     "text": [
      "Digite seu nome: christian\n",
      "Digite sua senha: christian\n",
      "Erro, o nome e a senha não podem ser iguais\n",
      "Digite o seu nome de usuário: alan\n",
      "Digite a sua senha: alan\n",
      "Erro, o nome e a senha não podem ser iguais\n",
      "Digite o seu nome de usuário: christian\n",
      "Digite a sua senha: alan\n"
     ]
    }
   ],
   "source": [
    "nome = input(\"Digite seu nome: \")\n",
    "senha = input(\"Digite sua senha: \")\n",
    "\n",
    "while senha == nome:\n",
    "    print(\"Erro, o nome e a senha não podem ser iguais\")\n",
    "    nome = input(\"Digite o seu nome de usuário: \")\n",
    "    senha = input(\"Digite a sua senha: \")"
   ]
  },
  {
   "cell_type": "code",
   "execution_count": 20,
   "id": "0f98b079",
   "metadata": {},
   "outputs": [
    {
     "name": "stdout",
     "output_type": "stream",
     "text": [
      "Digite seu estado civil [s, c, v, d]: f\n",
      "Digite o seu estado civil[s, c, v, d]: e\n",
      "Digite o seu estado civil[s, c, v, d]: D\n",
      "Digite o seu estado civil[s, c, v, d]: d\n"
     ]
    }
   ],
   "source": [
    "'''\n",
    "Faça um programa que leia e valide as seguintes informações:\n",
    "Nome: maior que 3 caracteres;\n",
    "Idade: entre 0 e 150;\n",
    "Salário: maior que zero;\n",
    "Sexo: 'f' ou 'm';\n",
    "Estado Civil: 's', 'c', 'v', 'd';\n",
    "'''\n",
    "\n",
    "nome = input(\"Digite seu nome: \")\n",
    "while len(nome) < 3:\n",
    "    nome = input(\"Digite seu nome: \")\n",
    "\n",
    "idade = float(input(\"Digite sua idade: \"))\n",
    "while idade < 0 or idade > 150:\n",
    "    idade = float(input(\"Digite sua idade: \"))\n",
    "    \n",
    "salario = float(input(\"Digite seu salario: \"))\n",
    "while salario < 0:\n",
    "    salario = float(input(\"Digite seu salario\"))\n",
    "    \n",
    "sexo = str(input(\"Digite seu sexo F para Feminino ou M para masculino: \"))\n",
    "while sexo != 'M' and sexo != 'F':\n",
    "    sexo = str(input(\"Digite o sexo novamente: \"))\n",
    "\n",
    "estado_civil = str(input(\"Digite seu estado civil [s, c, v, d]: \"))\n",
    "while estado_civil != 's' and estado_civil != 'c' and estado_civil != 'v' and estado_civil != 'd':\n",
    "    estado_civil = str(input(\"Digite o seu estado civil[s, c, v, d]: \"))"
   ]
  },
  {
   "cell_type": "code",
   "execution_count": 116,
   "id": "a760f603",
   "metadata": {},
   "outputs": [
    {
     "name": "stdout",
     "output_type": "stream",
     "text": [
      "Quantidade de anos:  63\n"
     ]
    }
   ],
   "source": [
    "#Supondo que a população de um país A seja da ordem de 80000 habitantes com uma taxa anual de crescimento de 3%\n",
    "#e que a população de B seja 200000 habitantes com uma taxa de crescimento de 1.5%. \n",
    "#Faça um programa que calcule e escreva o número de anos necessários para que a população do país A ultrapasse ou\n",
    "#iguale a população do país B, mantidas as taxas de crescimento.\n",
    "\n",
    "\n",
    "a = 80000\n",
    "b = 200000\n",
    "ano = 0\n",
    "\n",
    "while a < b:\n",
    "    a += a * 0.03\n",
    "    b += b * 0.015\n",
    "    ano += 1\n",
    "    \n",
    "print(\"Quantidade de anos: \", ano)"
   ]
  },
  {
   "cell_type": "code",
   "execution_count": 157,
   "id": "96908574",
   "metadata": {},
   "outputs": [
    {
     "name": "stdout",
     "output_type": "stream",
     "text": [
      "Digite a população 1: 200000\n",
      "Digite a população 2: 80000\n",
      "Porcentagem de crescimento anual da população 1: 3\n",
      "Porcentagem de crescimento anual da população 2: 1\n",
      "O crescimento da menor população deve ser maior que o da maior população\n"
     ]
    }
   ],
   "source": [
    "#Altere o programa anterior permitindo ao usuário informar as populações e as taxas de crescimento iniciais. \n",
    "#Valide a entrada e permita repetir a operação.\n",
    "\n",
    "\n",
    "\n",
    "populacao1 = int(input(\"Digite a população 1: \"))\n",
    "populacao2 = int(input(\"Digite a população 2: \"))\n",
    "crescimento1 = input(\"Porcentagem de crescimento anual da população 1: \")\n",
    "crescimento2 = input(\"Porcentagem de crescimento anual da população 2: \")\n",
    "\n",
    "\n",
    "if '%' in crescimento1 or '%' in crescimento2:\n",
    "    try: \n",
    "        crescimento1 = float(crescimento1.replace('%', ''))\n",
    "        crescimento2 = float(crescimento2.replace('%', ''))\n",
    "        print(type(crescimento1))\n",
    "        print(type(crescimento2))\n",
    "    except:\n",
    "        print('erro')\n",
    "else:\n",
    "    try:\n",
    "        crescimento1 = float(crescimento1)\n",
    "        crescimento2 = float(crescimento2)\n",
    "    except:\n",
    "        print('erro')\n",
    "        \n",
    "\n",
    "ano = 0\n",
    "#crescimento1.split('%')\n",
    "#crescimento2.split('%')\n",
    "#crescimento_porcentagem1 = int(crescimento1[0]) / 100\n",
    "#crescimento_porcentagem2 = int(crescimento2[0]) / 100\n",
    "\n",
    "crescimento_porcentagem1 = (crescimento1 / 100)\n",
    "crescimento_porcentagem2 = (crescimento2 / 100)\n",
    "\n",
    "\n",
    "if populacao1 < populacao2:\n",
    "    if crescimento_porcentagem1 > crescimento_porcentagem2:\n",
    "        while populacao1 < populacao2:\n",
    "            populacao1 += populacao1 * crescimento_porcentagem1\n",
    "            populacao2 += populacao2 * crescimento_porcentagem2\n",
    "            ano += 1\n",
    "        \n",
    "        print(\"Vai levar \", ano, \" anos para a populacao 2 ultrapassar a 1\")\n",
    "    elif crescimento_porcentagem1 < crescimento_porcentagem2:\n",
    "        print('O crescimento da menor população deve ser maior que o da maior população')\n",
    "\n",
    "        \n",
    "if populacao1 > populacao2:\n",
    "    if crescimento_porcentagem1 < crescimento_porcentagem2:\n",
    "        while populacao1 > populacao2:\n",
    "            populacao1 += populacao1 * crescimento_porcentagem1\n",
    "            populacao2 += populacao2 * crescimento_porcentagem2\n",
    "            ano += 1\n",
    "        \n",
    "        print(\"Vai levar \", ano, \" anos para a populacao 2 ultrapassar a 1\")\n",
    "    elif crescimento_porcentagem1 > crescimento_porcentagem2:\n",
    "        print('O crescimento da menor população deve ser maior que o da maior população')\n",
    "        "
   ]
  },
  {
   "cell_type": "code",
   "execution_count": 165,
   "id": "c06e7d26",
   "metadata": {},
   "outputs": [
    {
     "name": "stdout",
     "output_type": "stream",
     "text": [
      "Digite a população 1: 500\n",
      "Digite a população 2: 2000\n",
      "Porcentagem de crescimento anual da população 1: 5\n",
      "Porcentagem de crescimento anual da população 2: 2\n",
      "Vai levar  48  anos para a populacao 2 ultrapassar a 1\n"
     ]
    }
   ],
   "source": [
    "#Altere o programa anterior permitindo ao usuário informar as populações e as taxas de crescimento iniciais. \n",
    "#Valide a entrada e permita repetir a operação.\n",
    "\n",
    "\n",
    "\n",
    "populacao1 = int(input(\"Digite a população 1: \"))\n",
    "populacao2 = int(input(\"Digite a população 2: \"))\n",
    "\n",
    "while True:\n",
    "    crescimento1 = input(\"Porcentagem de crescimento anual da população 1: \")\n",
    "    crescimento2 = input(\"Porcentagem de crescimento anual da população 2: \")\n",
    "\n",
    "\n",
    "    if '%' in crescimento1 or '%' in crescimento2:\n",
    "        try: \n",
    "            crescimento1 = float(crescimento1.replace('%', ''))\n",
    "            crescimento2 = float(crescimento2.replace('%', ''))\n",
    "            print(type(crescimento1))\n",
    "            print(type(crescimento2))\n",
    "        except:\n",
    "            print('erro')\n",
    "    else:\n",
    "        try:\n",
    "            crescimento1 = float(crescimento1)\n",
    "            crescimento2 = float(crescimento2)\n",
    "        except:\n",
    "            print('erro')\n",
    "\n",
    "\n",
    "    ano = 0\n",
    "\n",
    "    crescimento_porcentagem1 = (crescimento1 / 100)\n",
    "    crescimento_porcentagem2 = (crescimento2 / 100)\n",
    "\n",
    "\n",
    "    if populacao1 < populacao2:\n",
    "        if crescimento_porcentagem1 > crescimento_porcentagem2:\n",
    "            while populacao1 < populacao2:\n",
    "                populacao1 += populacao1 * crescimento_porcentagem1\n",
    "                populacao2 += populacao2 * crescimento_porcentagem2\n",
    "                ano += 1\n",
    "\n",
    "            print(\"Vai levar \", ano, \" anos para a populacao 2 ultrapassar a 1\")\n",
    "            break\n",
    "        else:\n",
    "            print('O crescimento da menor população deve ser maior que o da maior população')\n",
    "            continue\n",
    "\n",
    "\n",
    "\n",
    "    if populacao1 > populacao2:\n",
    "        if crescimento_porcentagem1 < crescimento_porcentagem2:\n",
    "            while populacao1 > populacao2:\n",
    "                populacao1 += populacao1 * crescimento_porcentagem1\n",
    "                populacao2 += populacao2 * crescimento_porcentagem2\n",
    "                ano += 1\n",
    "\n",
    "            print(\"Vai levar \", ano, \" anos para a populacao 2 ultrapassar a 1\")\n",
    "            break\n",
    "        else:\n",
    "            print('O crescimento da menor população deve ser maior que o da maior população')\n",
    "            continue"
   ]
  },
  {
   "cell_type": "code",
   "execution_count": 172,
   "id": "5454c501",
   "metadata": {},
   "outputs": [
    {
     "name": "stdout",
     "output_type": "stream",
     "text": [
      "0\n",
      "1\n",
      "2\n",
      "3\n",
      "4\n",
      "5\n",
      "6\n",
      "7\n",
      "8\n",
      "9\n",
      "10\n",
      "11\n",
      "12\n",
      "13\n",
      "14\n",
      "15\n",
      "16\n",
      "17\n",
      "18\n",
      "19\n",
      "[1, 2, 3, 4, 5, 6, 7, 8, 9, 10, 11, 12, 13, 14, 15, 16, 17, 18, 19, 20]\n"
     ]
    }
   ],
   "source": [
    "#Faça um programa que imprima na tela os números de 1 a 20, um abaixo do outro. \n",
    "#Depois modifique o programa para que ele mostre os números um ao lado do outro.\n",
    "\n",
    "for i in range(20):\n",
    "    print(i)\n",
    "    \n",
    "####################################\n",
    "    \n",
    "print(list(range(1, 21)))\n",
    "\n",
    "####################################\n",
    "\n",
    "string = ''\n",
    "for i in range(1,21):\n",
    "    string += str(i) + ', '\n",
    "print(string)"
   ]
  },
  {
   "cell_type": "code",
   "execution_count": 189,
   "id": "106b78d8",
   "metadata": {},
   "outputs": [
    {
     "name": "stdout",
     "output_type": "stream",
     "text": [
      "Número: 526\n",
      "Número: 6\n",
      "Número: 23\n",
      "Número: 59549\n",
      "Número: 5\n",
      "O maior número da lista é 59549\n"
     ]
    }
   ],
   "source": [
    "#Faça um programa que leia 5 números e informe o maior número.\n",
    "\n",
    "numeros = []\n",
    "for i in range(5):\n",
    "    numeros.append(int(input(\"Número: \")))\n",
    "    \n",
    "print('O maior número da lista é',max(numeros))\n",
    "\n",
    "\n",
    "#############\n",
    "# codigo melhorado\n",
    "\n",
    "numeros = [int(input(\"Número: \")) for i in range(20)]\n",
    "print('O maior número da lista é',max(numeros))"
   ]
  },
  {
   "cell_type": "code",
   "execution_count": 196,
   "id": "3ec0dd79",
   "metadata": {},
   "outputs": [
    {
     "name": "stdout",
     "output_type": "stream",
     "text": [
      "Digite um numero: 5\n",
      "Digite um numero: 7\n",
      "Digite um numero: 9\n",
      "Digite um numero: 10\n",
      "Digite um numero: 5\n",
      "A média dos números digitados na lista é de:  7.2\n",
      "A soma dos números digitados na lista é de:  36\n"
     ]
    }
   ],
   "source": [
    "#Faça um programa que leia 5 números e informe a soma e a média dos números.\n",
    "\n",
    "lista = []\n",
    "\n",
    "for i in range(5):\n",
    "    lista.append(int(input('Digite um numero: ')))\n",
    "\n",
    "media = (sum(lista)/len(lista))\n",
    "    \n",
    "print('A média dos números digitados na lista é de: ', media)\n",
    "print('A soma dos números digitados na lista é de: ', sum(lista))"
   ]
  },
  {
   "cell_type": "code",
   "execution_count": 201,
   "id": "fda367f6",
   "metadata": {},
   "outputs": [
    {
     "name": "stdout",
     "output_type": "stream",
     "text": [
      "1\n",
      "3\n",
      "5\n",
      "7\n",
      "9\n",
      "11\n",
      "13\n",
      "15\n",
      "17\n",
      "19\n",
      "21\n",
      "23\n",
      "25\n",
      "27\n",
      "29\n",
      "31\n",
      "33\n",
      "35\n",
      "37\n",
      "39\n",
      "41\n",
      "43\n",
      "45\n",
      "47\n",
      "49\n"
     ]
    }
   ],
   "source": [
    "#Faça um programa que imprima na tela apenas os números ímpares entre 1 e 50.\n",
    "\n",
    "for i in range(50):\n",
    "    if i % 2 != 0:\n",
    "        print(i)"
   ]
  },
  {
   "cell_type": "code",
   "execution_count": 207,
   "id": "f4c2c3d7",
   "metadata": {},
   "outputs": [
    {
     "name": "stdout",
     "output_type": "stream",
     "text": [
      "1\n",
      "3\n",
      "5\n",
      "7\n",
      "9\n",
      "11\n",
      "13\n",
      "15\n",
      "17\n",
      "19\n",
      "21\n",
      "23\n",
      "25\n",
      "27\n",
      "29\n",
      "31\n",
      "33\n",
      "35\n",
      "37\n",
      "39\n",
      "41\n",
      "43\n",
      "45\n",
      "47\n",
      "49\n"
     ]
    }
   ],
   "source": [
    "# (range (começa, termina, passo))\n",
    "for i in range(1, 50, 2):\n",
    "    print(i)"
   ]
  },
  {
   "cell_type": "code",
   "execution_count": 208,
   "id": "7a6f03a7",
   "metadata": {},
   "outputs": [
    {
     "name": "stdout",
     "output_type": "stream",
     "text": [
      "[1, 3, 5, 7, 9, 11, 13, 15, 17, 19, 21, 23, 25, 27, 29, 31, 33, 35, 37, 39, 41, 43, 45, 47, 49]\n"
     ]
    }
   ],
   "source": [
    "print(list(range(1, 50, 2)))"
   ]
  },
  {
   "cell_type": "code",
   "execution_count": 223,
   "id": "89d3d5bb",
   "metadata": {},
   "outputs": [
    {
     "name": "stdout",
     "output_type": "stream",
     "text": [
      "Digite o primeiro valor: 5\n",
      "Digite o segundo valor: 10\n",
      "[5, 6, 7, 8, 9]\n"
     ]
    }
   ],
   "source": [
    "#Faça um programa que receba dois números inteiros e gere os números inteiros que estão no intervalo compreendido por eles.\n",
    "\n",
    "n_1 = int(input(\"Digite o primeiro valor: \"))\n",
    "n_2 = int(input(\"Digite o segundo valor: \"))\n",
    "\n",
    "if n_1 > n_2:\n",
    "    print(list(range(n_2, n_1+1,1)))\n",
    "else:\n",
    "     print(list(range(n_1, n_2+1,1)))\n",
    "\n"
   ]
  },
  {
   "cell_type": "code",
   "execution_count": 236,
   "id": "e22b8781",
   "metadata": {},
   "outputs": [
    {
     "name": "stdout",
     "output_type": "stream",
     "text": [
      "Digite um número: 80\n",
      "Digite outro número: 100\n",
      "81\n",
      "82\n",
      "83\n",
      "84\n",
      "85\n",
      "86\n",
      "87\n",
      "88\n",
      "89\n",
      "90\n",
      "91\n",
      "92\n",
      "93\n",
      "94\n",
      "95\n",
      "96\n",
      "97\n",
      "98\n",
      "99\n"
     ]
    }
   ],
   "source": [
    "#Faça um programa que receba dois números inteiros e gere os números inteiros que estão no intervalo compreendido por eles.\n",
    "\n",
    "n1 = int(input(\"Digite um número: \"))\n",
    "n2 = int(input(\"Digite outro número: \"))\n",
    "\n",
    "for i in range(n1 + 1, n2):\n",
    "        print(i)\n",
    "for i in range(n2 + 1, n1):\n",
    "        print(i)"
   ]
  },
  {
   "cell_type": "code",
   "execution_count": 259,
   "id": "467b2699",
   "metadata": {},
   "outputs": [
    {
     "name": "stdout",
     "output_type": "stream",
     "text": [
      "Digite o primeiro valor: 10\n",
      "Digite o segundo valor: 5\n",
      "[5, 6, 7, 8, 9, 10]\n",
      "a soma dos numeros:  45\n"
     ]
    }
   ],
   "source": [
    "#Altere o programa anterior para mostrar no final a soma dos números.\n",
    "\n",
    "n_1 = int(input(\"Digite o primeiro valor: \"))\n",
    "n_2 = int(input(\"Digite o segundo valor: \"))\n",
    "soma = []\n",
    "\n",
    "\n",
    "for i in range(n_1,n_2+1):\n",
    "    soma.append(i)\n",
    "\n",
    "for i in range(n_2,n_1+1):\n",
    "    soma.append(i)\n",
    "\n",
    "print(soma)\n",
    "\n",
    "#soma_ = sum(soma)\n",
    "\n",
    "print('a soma dos numeros: ',sum(soma))"
   ]
  },
  {
   "cell_type": "code",
   "execution_count": 272,
   "id": "38c6c235",
   "metadata": {},
   "outputs": [
    {
     "name": "stdout",
     "output_type": "stream",
     "text": [
      "Digite o número da taboada que deseja visualizar entre 1 a 10: 5\n",
      " 5 x 1 = 5\n",
      " 5 x 2 = 10\n",
      " 5 x 3 = 15\n",
      " 5 x 4 = 20\n",
      " 5 x 5 = 25\n",
      " 5 x 6 = 30\n",
      " 5 x 7 = 35\n",
      " 5 x 8 = 40\n",
      " 5 x 9 = 45\n",
      " 5 x 10 = 50\n"
     ]
    }
   ],
   "source": [
    "#Desenvolva um gerador de tabuada, capaz de gerar a tabuada de qualquer número inteiro entre 1 a 10. \n",
    "#O usuário deve informar de qual numero ele deseja ver a tabuada. A saída deve ser conforme o exemplo abaixo:\n",
    "'''\n",
    "Tabuada de 5:\n",
    "\n",
    "5 X 1 = 5\n",
    "5 X 2 = 10\n",
    "\n",
    "5 X 10 = 50\n",
    "'''\n",
    "numero = int(input(\"Digite o número da taboada que deseja visualizar entre 1 a 10: \"))\n",
    "\n",
    "for i in range(1,11):\n",
    "    print(f' {numero} x {i} =', i * numero)"
   ]
  },
  {
   "cell_type": "code",
   "execution_count": 308,
   "id": "7c65c7ea",
   "metadata": {},
   "outputs": [
    {
     "name": "stdout",
     "output_type": "stream",
     "text": [
      "Base: 5\n",
      "Expoente: 5\n",
      "5 ^ 5 = 3125\n"
     ]
    }
   ],
   "source": [
    "#Faça um programa que peça dois números, base e expoente, calcule e mostre o primeiro número elevado ao segundo número.\n",
    "#Não utilize a função de potência da linguagem.\n",
    "\n",
    "#print(\"base ^ expoente:\")\n",
    "base=int(input(\"Base: \"))\n",
    "expoente=int(input(\"Expoente: \"))\n",
    "\n",
    "potencia=1\n",
    "count=1\n",
    "\n",
    "while count <= expoente:\n",
    "    potencia = potencia * base\n",
    "    #potencia *= base\n",
    "    count +=1\n",
    "\n",
    "print(base,\"^\",expoente,\"=\",potencia)"
   ]
  },
  {
   "cell_type": "code",
   "execution_count": 328,
   "id": "46627002",
   "metadata": {},
   "outputs": [
    {
     "name": "stdout",
     "output_type": "stream",
     "text": [
      "Base: 5\n",
      "Expoente: 5\n",
      "5 ^ 5 = 3125\n"
     ]
    }
   ],
   "source": [
    "#Faça um programa que peça dois números, base e expoente, calcule e mostre o primeiro número elevado ao segundo número.\n",
    "#Não utilize a função de potência da linguagem.\n",
    "#print(\"base ^ expoente:\")\n",
    "base=int(input(\"Base: \"))\n",
    "expoente=int(input(\"Expoente: \"))\n",
    "\n",
    "potencia = 1\n",
    "\n",
    "for count in range(expoente):\n",
    "    potencia *= base\n",
    "    \n",
    "print(base,\"^\",expoente,\"=\",potencia)"
   ]
  },
  {
   "cell_type": "code",
   "execution_count": 345,
   "id": "42f4946e",
   "metadata": {},
   "outputs": [
    {
     "name": "stdout",
     "output_type": "stream",
     "text": [
      "Digite o número 1: 5\n",
      "Digite o número 2: 6\n",
      "Digite o número 3: 8\n",
      "Digite o número 4: 7\n",
      "Digite o número 5: 1\n",
      "Digite o número 6: 2\n",
      "Digite o número 7: 3\n",
      "Digite o número 8: 4\n",
      "Digite o número 9: 8\n",
      "Digite o número 10: 5\n",
      "[6, 8, 2, 4, 8]\n",
      "[5, 7, 1, 3, 5]\n"
     ]
    }
   ],
   "source": [
    "#Faça um programa que peça 10 números inteiros, \n",
    "#calcule e mostre a quantidade de números pares e a quantidade de números impares.\n",
    "num = 1\n",
    "par = []\n",
    "impar = []\n",
    "\n",
    "for i in range(1,11):\n",
    "    digitado = int(input(f'Digite o número {num}: '))\n",
    "    num += 1\n",
    "    if digitado % 2 == 0:\n",
    "        par.append(digitado)\n",
    "    else:\n",
    "        impar.append(digitado)\n",
    "    \n",
    "print(par)\n",
    "print(impar)\n",
    "    "
   ]
  },
  {
   "cell_type": "code",
   "execution_count": 368,
   "id": "1a294ff7",
   "metadata": {},
   "outputs": [
    {
     "name": "stdout",
     "output_type": "stream",
     "text": [
      "Que termo deseja encontrar: 5\n",
      "5\n"
     ]
    }
   ],
   "source": [
    "#fibonacci\n",
    "\n",
    "n = int(input(\"Que termo deseja encontrar: \"))\n",
    "ultimo=1\n",
    "penultimo=1\n",
    "\n",
    "if (n==1) or (n==2):\n",
    "    print(\"1\")\n",
    "else:\n",
    "    for count in range(2,n):\n",
    "        termo = ultimo + penultimo\n",
    "        penultimo = ultimo\n",
    "        ultimo = termo\n",
    "        count += 1\n",
    "    print(termo)"
   ]
  },
  {
   "cell_type": "code",
   "execution_count": 378,
   "id": "5fdc996e",
   "metadata": {},
   "outputs": [
    {
     "name": "stdout",
     "output_type": "stream",
     "text": [
      "Digite um número para saber o fatorial: 5\n",
      "120\n"
     ]
    }
   ],
   "source": [
    "#Faça um programa que calcule o fatorial de um número inteiro fornecido pelo usuário. Ex.: 5!=5.4.3.2.1=120\n",
    "\n",
    "num = int(input('Digite um número para saber o fatorial: '))\n",
    "count = 1\n",
    "resultado = 1\n",
    "\n",
    "while count <= num:\n",
    "    resultado *= count\n",
    "    count += 1\n",
    "    \n",
    "print(resultado)"
   ]
  },
  {
   "cell_type": "code",
   "execution_count": 391,
   "id": "863ff7a5",
   "metadata": {},
   "outputs": [
    {
     "name": "stdout",
     "output_type": "stream",
     "text": [
      "Fatorial de: 7\n",
      "5040\n"
     ]
    }
   ],
   "source": [
    "#Faça um programa que calcule o fatorial de um número inteiro fornecido pelo usuário. Ex.: 5!=5.4.3.2.1=120\n",
    "numero = int(input(\"Fatorial de: \"))\n",
    "\n",
    "resultado=1\n",
    "for i in range(1,numero+1):\n",
    "    #resultado = resultado * i\n",
    "    resultado *= i\n",
    "\n",
    "print(resultado)"
   ]
  },
  {
   "cell_type": "code",
   "execution_count": 406,
   "id": "2eec7f49",
   "metadata": {},
   "outputs": [
    {
     "name": "stdout",
     "output_type": "stream",
     "text": [
      "1040\n",
      "699\n",
      "5\n"
     ]
    }
   ],
   "source": [
    "#Faça um programa que, dado um conjunto de N números, determine o menor valor, o maior valor e a soma dos valores.\n",
    "\n",
    "lista = [5,8,56,8,9,75,62,33,85,699]\n",
    "\n",
    "print(sum(lista))\n",
    "print(max(lista))\n",
    "print(min(lista))"
   ]
  },
  {
   "cell_type": "code",
   "execution_count": 409,
   "id": "bbceade6",
   "metadata": {},
   "outputs": [
    {
     "name": "stdout",
     "output_type": "stream",
     "text": [
      "Digite o numero para saber se ele é primo ou não: 58\n",
      "multiplo de  2\n",
      "multiplo de  29\n",
      "Tem 2 múltiplos acima de 2 e abaixo de 58\n"
     ]
    }
   ],
   "source": [
    "#Faça um programa que peça um número inteiro e determine se ele é ou não um número primo. \n",
    "#Um número primo é aquele que é divisível somente por ele mesmo e por 1.\n",
    "\n",
    "mult = 0\n",
    "\n",
    "\n",
    "n = int(input('Digite o numero para saber se ele é primo ou não: '))\n",
    "\n",
    "for count in range(2,n):\n",
    "    if(n % count == 0):\n",
    "        print(\"multiplo de \", count)\n",
    "        mult += 1\n",
    "        \n",
    "if(mult == 0):\n",
    "    print(\"é primo\")\n",
    "else:\n",
    "    print(\"Tem\", mult, \"múltiplos acima de 2 e abaixo de\", n)"
   ]
  },
  {
   "cell_type": "code",
   "execution_count": 412,
   "id": "ea0dacb4",
   "metadata": {},
   "outputs": [
    {
     "name": "stdout",
     "output_type": "stream",
     "text": [
      "Digite um número inteiro: 8\n",
      "não primo\n"
     ]
    }
   ],
   "source": [
    "n = int(input(\"Digite um número inteiro: \"))\n",
    "cont = 0\n",
    "i = 0\n",
    "\n",
    "while i <= n or cont < 2:\n",
    "    i = i + 1\n",
    "    x = n % i\n",
    "    if x == 0:\n",
    "        cont = cont + 1\n",
    "\n",
    "if cont <= 2:\n",
    "    print(\"primo\")\n",
    "else:\n",
    "    print(\"não é primo\")\n"
   ]
  },
  {
   "cell_type": "code",
   "execution_count": null,
   "id": "f1d895eb",
   "metadata": {},
   "outputs": [],
   "source": []
  },
  {
   "cell_type": "code",
   "execution_count": null,
   "id": "21d146f9",
   "metadata": {},
   "outputs": [],
   "source": []
  }
 ],
 "metadata": {
  "kernelspec": {
   "display_name": "Python 3",
   "language": "python",
   "name": "python3"
  },
  "language_info": {
   "codemirror_mode": {
    "name": "ipython",
    "version": 3
   },
   "file_extension": ".py",
   "mimetype": "text/x-python",
   "name": "python",
   "nbconvert_exporter": "python",
   "pygments_lexer": "ipython3",
   "version": "3.8.8"
  }
 },
 "nbformat": 4,
 "nbformat_minor": 5
}
