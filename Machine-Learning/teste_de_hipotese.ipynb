{
 "cells": [
  {
   "cell_type": "markdown",
   "metadata": {},
   "source": [
    "Pergunta 1:\n",
    "Uma farmácia colocou um cartaz em sua entrada que afirma que a entrega de seus medicamentos na casa dos clientes demora em média, até 20 minutos. Após ler o cartaz, você desconfia que a entrega demora em média mais tempo que o anunciado.\n",
    "Você decide fazer um teste, anotar o tempo de entrega de 40 pedidos na farmácia, incluindo os de vizinhos clientes. Após 40 entregas, você obtém uma média de 23 minutos, com um desvio padrão de 5 minutos."
   ]
  },
  {
   "cell_type": "markdown",
   "metadata": {},
   "source": [
    "H0: u <= 20 (média do tempo de entrega esperada é menor ou igual a 20 minutos) <br>\n",
    "Ha: u > 20 (média do tempo de espera é maior que 20 minutos) <br>\n",
    "\n",
    "Desta forma, o teste é unicaucal à direita <br>\n",
    "\n",
    "Neste etapa é calculado o p-valor, que para este exemplo, significa a probabilidade de, não rejeitar a H0, que o tempo de entrega da farmácia seja muito longe de que 23 minutos.\n",
    "\n",
    "<br>\n",
    "p-valor = P(T > t)"
   ]
  },
  {
   "cell_type": "code",
   "execution_count": 7,
   "metadata": {},
   "outputs": [],
   "source": [
    "import scipy.stats as stats"
   ]
  },
  {
   "cell_type": "code",
   "execution_count": 4,
   "metadata": {},
   "outputs": [
    {
     "name": "stdout",
     "output_type": "stream",
     "text": [
      "Estatistica_t= 3.7947\n",
      "\n"
     ]
    }
   ],
   "source": [
    "# Dados\n",
    "media_amostral = 23 # Média amostral observada\n",
    "media_anunciada = 20 # Média anunciada pela farmácia\n",
    "tamanho_amostra = 40 # Tamanho da amostra\n",
    "\n",
    "\n",
    "# Desvio Padrão\n",
    "desvio_padrao_estimado = 5\n",
    "\n",
    "# Calculo da estatística t\n",
    "estatistica_t = (media_amostral - media_anunciada) / (desvio_padrao_estimado / (tamanho_amostra ** 0.5))\n",
    "\n",
    "print(f'Estatistica_t= {estatistica_t:.4f}')\n",
    "print()\n"
   ]
  },
  {
   "cell_type": "code",
   "execution_count": 5,
   "metadata": {},
   "outputs": [
    {
     "name": "stdout",
     "output_type": "stream",
     "text": [
      "O p-valor vale: 0.0003\n"
     ]
    }
   ],
   "source": [
    "# Cálculo do p-valor para um teste unilateral à direita\n",
    "p_valor = 1 - stats.t.cdf(estatistica_t, df=tamanho_amostra - 1)\n",
    "print(f'O p-valor vale: {p_valor:.4f}')"
   ]
  },
  {
   "cell_type": "code",
   "execution_count": 6,
   "metadata": {},
   "outputs": [
    {
     "name": "stdout",
     "output_type": "stream",
     "text": [
      "Rejeita a hipótese nula: Há evidências de que a entrega demora mais tempo do que o anunciado\n"
     ]
    }
   ],
   "source": [
    "# Nível de significância\n",
    "nivel_de_significancia = 00.5\n",
    "\n",
    "# Tomara de decisão\n",
    "if p_valor < nivel_de_significancia:\n",
    "    print('Rejeita a hipótese nula: Há evidências de que a entrega demora mais tempo do que o anunciado')\n",
    "else:\n",
    "    print('Não rejeitar a hipótese nula: Não há evidências suficientes para concluir que a entrega demora mais tempo do que o anunciado')"
   ]
  },
  {
   "cell_type": "markdown",
   "metadata": {},
   "source": [
    "################################################ <br>\n",
    "################################################ <br>\n",
    "################################################ <br>\n"
   ]
  },
  {
   "cell_type": "markdown",
   "metadata": {},
   "source": [
    "Pergunta 2:\n",
    "Uma escola de idiomas afirma que os alunos do nível intermediário são capazes de aprender mais de 50 novas palavras em inglês por semana, utilizando um novo método de ensino. Como um pesquisador em métodos de ensino de línguas, você suspeita que essa afirmação pode ser exagerada. Você tem acesso a estudos anteriores que mostram um desvio padrão da população de 10 palavras por semana no aprendizado de alunos em um nível similar. Para testar a afirmação da escola, você decide aplicar um teste a 30 alunos durante uma semana de curso.\n",
    "\n",
    "Após a semana, você coleta os dados e calcula que a média de novas palavras aprendidas pelos alunos foi de 45."
   ]
  },
  {
   "cell_type": "markdown",
   "metadata": {},
   "source": [
    "H0: u >= 50 (a média de palavras aprendidas é maior ou igual a 50 por semana) <br>\n",
    "Ha: u < 50 (a média de palavras aprendidas é menor que 50 por semana) <br>\n",
    "\n",
    "Neste caso, o teste é unicaudal á esquerda, pois você está testando se a média de palavras aprendidas é significativamente menor do que 50."
   ]
  },
  {
   "cell_type": "markdown",
   "metadata": {},
   "source": [
    "Neste caso, temos 30 registros de amostra e o desvio padrão da população é conhecido. Portanto, ao invés da distribuição t-student, utilizaremos a distribuição normal (z-distribution) para realizar o teste de hipótese. <br>\n",
    "\n",
    "Nestá etapa é calculado o p-valor, que para este exemplo, significa a probabilidade de, não rejeitar o H0, que a média de palavras aprendidas por semana seja igual ou menor que 45\n",
    "\n",
    "<br>\n",
    "p-valor = P(Z < z)"
   ]
  },
  {
   "cell_type": "code",
   "execution_count": 18,
   "metadata": {},
   "outputs": [
    {
     "name": "stdout",
     "output_type": "stream",
     "text": [
      "Estatistica_t= -2.7386\n",
      "\n"
     ]
    }
   ],
   "source": [
    "# Dados\n",
    "media_amostral = 45 # Média amostral \n",
    "media_anunciada = 50 # Média anunciada \n",
    "tamanho_amostra = 30 # Tamanho da amostra\n",
    "desvio_padrao_populacional = 10 # desvio padrao populacional\n",
    "\n",
    "# Calculo da estatística t\n",
    "estatistica_z = (media_amostral - media_anunciada) / (desvio_padrao_populacional / (tamanho_amostra ** 0.5))\n",
    "\n",
    "print(f'Estatistica_t= {estatistica_z:.4f}')\n",
    "print()"
   ]
  },
  {
   "cell_type": "code",
   "execution_count": 15,
   "metadata": {},
   "outputs": [
    {
     "name": "stdout",
     "output_type": "stream",
     "text": [
      "O p-valor vale: 0.0031\n"
     ]
    }
   ],
   "source": [
    "# Cálculo do p-valor para um teste unilateral à direita\n",
    "p_valor = stats.norm.cdf(estatistica_z)\n",
    "print(f'O p-valor vale: {p_valor:.4f}')"
   ]
  },
  {
   "cell_type": "code",
   "execution_count": 17,
   "metadata": {},
   "outputs": [
    {
     "name": "stdout",
     "output_type": "stream",
     "text": [
      "Rejeitar a hipótese nula: Há evidências de que o número de palavras aprendidas é menor que 50\n"
     ]
    }
   ],
   "source": [
    "# Nível de significância\n",
    "nivel_de_significancia = 00.5\n",
    "\n",
    "# Tomara de decisão\n",
    "if p_valor < nivel_de_significancia:\n",
    "    print('Rejeitar a hipótese nula: Há evidências de que o número de palavras aprendidas é menor que 50')\n",
    "else:\n",
    "    print('Não rejeitar a hipótese nula: Não há evidências suficientes para concluir que o número de palavras aprendidas é menor do que 50')"
   ]
  },
  {
   "cell_type": "markdown",
   "metadata": {},
   "source": [
    "################################################ <br>\n",
    "################################################ <br>\n",
    "################################################ <br>"
   ]
  },
  {
   "cell_type": "markdown",
   "metadata": {},
   "source": [
    "Pergunta 3: Uma empresa de agricultura desenvolveu dois tipos de fertilizantes: Fertilizante A e Fertilizante B.<br> \n",
    "<b>A empresa acredita que o Fertilizante B é mais eficiente que o Fertilizante A</b> no que diz respeito ao crescimento das plantas. Para testar isso, a empresa plantou duas lavouras sob condições controladas, uma usando o Fertilizante A e a outra usando o Fertilizante B. Os <b>desvios padrões</b> dos crescimentos são conhecidos de estudos anteriores e <b>são 2cm para o Fertilizante A e 3cm para o Fertilizante B</b>.\n",
    "<br>\n",
    "\n",
    "Após um período de crescimento, a empresa mediu o aumento médio na altura das plantas.<br>\n",
    "<b>Para o Fertilizante A, o aumento médio foi de 10cm em uma amostra de 30 plantas</b> <br>\n",
    "<b>Para o Fertilizante B, o aumento médio foi de 12cm uma amostra de 35 plantas</b>"
   ]
  },
  {
   "cell_type": "markdown",
   "metadata": {},
   "source": [
    "H0: uB - uA <= 0 (O Fertilizante B não é mais eficaz que o Fertilizante A, ou seja, a diferença na média de crescimento é zero ou negativa) <br>\n",
    "\n",
    "Ha: uB - uA > 0 (O Fertilizante B é mais eficaz que o Fertilizante A, ou seja, a diferença na média de crescimento é positiva) <br>\n",
    "\n",
    "É um teste enicaucal à direita, pois estamos testando se a média de crescimento do Fertilizante B é maior do que a do Fertilizante A"
   ]
  },
  {
   "cell_type": "markdown",
   "metadata": {},
   "source": [
    "Neste caso, os desvios padrões das populações são conhecidos, além das amostras terem pelo menos 30 registros. Portanto, utilizaremos a distribuição normal (z-distribution) para realizar o teste de hipótese."
   ]
  },
  {
   "cell_type": "markdown",
   "metadata": {},
   "source": [
    "Calculando o p-valor: <br>\n",
    "Nesta etapa é calculado o p-valor, que para este exemplo, significa a probabilidade de, não rejeitando a H0, que a diferença de crescimento médio entre o Fertilizante B e o Fertilizante A seja tão grande quanto a observada"
   ]
  },
  {
   "cell_type": "code",
   "execution_count": 19,
   "metadata": {},
   "outputs": [],
   "source": [
    "import scipy.stats as stats\n",
    "from math import sqrt"
   ]
  },
  {
   "cell_type": "code",
   "execution_count": 20,
   "metadata": {},
   "outputs": [
    {
     "name": "stdout",
     "output_type": "stream",
     "text": [
      "estatistica_z = 2.0000\n",
      "\n",
      "O p-valor vale: 0.0228\n",
      "\n"
     ]
    }
   ],
   "source": [
    "# Dados\n",
    "media_amostral_A = 10 # Média amostral com Fertilizante A\n",
    "media_amostral_B = 12 # Média amostral com Fertilizante B\n",
    "diferenca_media_pop = 0 # uB - uA = 0\n",
    "tamanho_amostra_A = 30 # Tamanho da amostra A\n",
    "tamanho_amostra_B = 35 # Tamanho da amostra B\n",
    "\n",
    "# Desvio padrão populacional\n",
    "desvio_padrao_pop_A = 2\n",
    "desvio_padrao_pop_B = 3\n",
    "desvio_padrao_pop_A_quadrado = desvio_padrao_pop_A ** 2\n",
    "desvio_padrao_pop_B_quadrado = desvio_padrao_pop_B ** 2\n",
    "\n",
    "# Calculo da estatística z\n",
    "estatistica_z = ((media_amostral_B - media_amostral_A) - (diferenca_media_pop) /\n",
    "                 sqrt((desvio_padrao_pop_A_quadrado / tamanho_amostra_A) + (desvio_padrao_pop_B_quadrado / tamanho_amostra_B)))\n",
    "\n",
    "print(f'estatistica_z = {estatistica_z:.4f}')\n",
    "print()\n",
    "\n",
    "# Calculo do p-valor para um teste unilateral à direita\n",
    "p_valor = 1 - stats.norm.cdf(estatistica_z)\n",
    "print(f'O p-valor vale: {p_valor:.4f}')\n",
    "print()"
   ]
  },
  {
   "cell_type": "code",
   "execution_count": 21,
   "metadata": {},
   "outputs": [
    {
     "name": "stdout",
     "output_type": "stream",
     "text": [
      "Rejeitar a hipótese nula: Há evidências de que o Fertilizante B é melhor que o Fertilizante A\n"
     ]
    }
   ],
   "source": [
    "# Tomada de decisão\n",
    "\n",
    "#Nível de significância\n",
    "nivel_de_significancia = 0.05\n",
    "\n",
    "# Tomada de decisão\n",
    "if p_valor < nivel_de_significancia:\n",
    "    print('Rejeitar a hipótese nula: Há evidências de que o Fertilizante B é melhor que o Fertilizante A')\n",
    "else:\n",
    "    print('Não rejeitar a hipótese nulo: Não há evidências suficientes para concluir que o Fertilizante B é melhor que o Fertilizante A')"
   ]
  },
  {
   "cell_type": "markdown",
   "metadata": {},
   "source": [
    "################################################ <br>\n",
    "################################################ <br>\n",
    "################################################ <br>"
   ]
  },
  {
   "cell_type": "markdown",
   "metadata": {},
   "source": [
    "Pergunta 4: <br>\n",
    "Imagine que duas escolas, Escola A e Escola B, implementaram métodos diferentes de ensino de matemática. <b>Acredita-se que o método da Escola B resulta em uma maior pontuação média nos testes de matemática do que o método da Escola A.</b><br>\n",
    "Depois de um semestre, uma amostra aleatória de estudantes é testada em ambas as escolas. <br>\n",
    "Na Escola A(amostra 1), a <b>média</b> dos testes de matemática <b>é 75</b> com um <b>tamanho de amostra de 40 alunos</b> e um <b>desvio padrão amostral de 5</b>.\n",
    "<br>\n",
    "Na Escola B(amostra 2), a <b>média é 80</b> com um <b>tamanho de amostra de 50</b> alunos e <b>desvio padrão amostral de 4</b>."
   ]
  },
  {
   "cell_type": "markdown",
   "metadata": {},
   "source": [
    "H0: uB - uA <= 0 (O método B não é mais eficaz que o método A; ou seja, a diferença na média de pontuação é zero ou negativa) <br>\n",
    "\n",
    "Ha: uB - uA > 0 (O método da escola B é mais eficaz que o método da escola A) <br>\n",
    "\n",
    "Este é um teste unicaudal à direita, pois estamos testando se a média de pontuação do método B é maior do que a do método A"
   ]
  },
  {
   "cell_type": "markdown",
   "metadata": {},
   "source": [
    "Como os desvios padrões das populações são desconhecidos iremos usar a distribuição t-student"
   ]
  },
  {
   "cell_type": "markdown",
   "metadata": {},
   "source": [
    "Calculando o p-valor<br>\n",
    "\n",
    "Nesta etapa é calculado o p-valor, que para esse exercicio, significa a probalibilidade de, não rejeitando a H0, que a diferença de pontuação média entre o método B e o método A seja tão grande quanto observada."
   ]
  },
  {
   "cell_type": "code",
   "execution_count": 23,
   "metadata": {},
   "outputs": [],
   "source": [
    "import scipy.stats as stats\n",
    "from math import sqrt"
   ]
  },
  {
   "cell_type": "code",
   "execution_count": 24,
   "metadata": {},
   "outputs": [
    {
     "name": "stdout",
     "output_type": "stream",
     "text": [
      "estatistica_t = 5.1434\n",
      "\n",
      "O p-valor vale: 0.00000107\n",
      "\n"
     ]
    }
   ],
   "source": [
    "# Dados\n",
    "media_amostra_A = 75 # Média amostral com método A\n",
    "media_amostra_B = 80 # Média amostral com método B\n",
    "diferenca_media_pop = 0 # uB - uA = 0\n",
    "tamanho_amostra_A = 40 # Tamanho da amostra A\n",
    "tamanho_amostra_B = 50 # Tamanho da amostra B\n",
    "\n",
    "# Desvio padrão amostral\n",
    "desvio_padrao_A = 5\n",
    "desvio_padrao_B = 4\n",
    "desvio_padrao_A_quadrado = desvio_padrao_A ** 2\n",
    "desvio_padrao_B_quadrado = desvio_padrao_B ** 2\n",
    "\n",
    "# Cálculo de desvio padrão da diferença amostral\n",
    "s_XB_XA = sqrt((desvio_padrao_A_quadrado / tamanho_amostra_A) + (desvio_padrao_B_quadrado / tamanho_amostra_B))\n",
    "\n",
    "# Calculo da estatística z\n",
    "estatistica_t = ((media_amostra_B - media_amostra_A) - (diferenca_media_pop)) / s_XB_XA\n",
    "\n",
    "# Graus de liberdade\n",
    "A = desvio_padrao_A_quadrado / tamanho_amostra_A\n",
    "B = desvio_padrao_B_quadrado / tamanho_amostra_B\n",
    "GL = ((A + B) **2) / (((A ** 2) / (tamanho_amostra_A - 1)) + ((B ** 2) / (tamanho_amostra_B - 1)))\n",
    "\n",
    "print(f'estatistica_t = {estatistica_t:.4f}')\n",
    "print()\n",
    "\n",
    "# Cálculo do p-valor para um teste unilateral à direita\n",
    "p_valor = 1 - stats.t.cdf(estatistica_t, df = GL)\n",
    "print(f'O p-valor vale: {p_valor:.8f}')\n",
    "print()"
   ]
  },
  {
   "cell_type": "markdown",
   "metadata": {},
   "source": [
    "Tomada de decisão <br>\n",
    "Iremos comparar o p-valor e o nível de significância. <br>"
   ]
  },
  {
   "cell_type": "code",
   "execution_count": 26,
   "metadata": {},
   "outputs": [
    {
     "name": "stdout",
     "output_type": "stream",
     "text": [
      "Rejeitar a hipótese nula: Há evidências de que o método B é melhor que o método A\n"
     ]
    }
   ],
   "source": [
    "# Nível de significância\n",
    "nivel_de_significancia = 0.05\n",
    "\n",
    "# Tomada de decisão\n",
    "if p_valor < nivel_de_significancia:\n",
    "    print('Rejeitar a hipótese nula: Há evidências de que o método B é melhor que o método A')\n",
    "else:\n",
    "    print('Não rejeitar a hipótese nula: Não há evidências suficientes para concluir que o método B é melhor que o método A')"
   ]
  },
  {
   "cell_type": "markdown",
   "metadata": {},
   "source": [
    "################################################ <br>\n",
    "################################################ <br>\n",
    "################################################ <br>"
   ]
  },
  {
   "cell_type": "markdown",
   "metadata": {},
   "source": [
    "Pergunta 6: ( Proporção )"
   ]
  },
  {
   "cell_type": "markdown",
   "metadata": {},
   "source": [
    "Imagina uma empresa de tecnologia que afirma que pelo menos <b>75% de seus usuários</b> estão satisfeitos com seu novo aplicativo com base em pesquisas internas preliminares. Um pesquisador independente quer testar essa afirmação. <br>\n",
    "O pesquisador seleciona uma <b>amostra aleatória de 200 usuários</b> do aplicativo e descobre que <b>140 deles</b> relatam estar satisfeitos com o aplicativo."
   ]
  },
  {
   "cell_type": "markdown",
   "metadata": {},
   "source": [
    "Este é um teste de duas categorias pois temos: <br>\n",
    "* categoria dos usuários que <b>estão satisfeitos</b> com o aplicativo<br>\n",
    "* categoria dos usuários que <b>não estão satisfeitos</b> com o aplicativo"
   ]
  },
  {
   "cell_type": "markdown",
   "metadata": {},
   "source": [
    "Hipótese Nula (H₀): A proporção de usuários satisfeitos com o aplicativo é pelo menos 75%. <br>\n",
    "Hipótese Alternativa (Hₐ): A proporção de usuários satisfeitos com o aplicativo é menor do que "
   ]
  },
  {
   "cell_type": "markdown",
   "metadata": {},
   "source": [
    "Este é um teste unicaudal à esquerda, pois o pesquisador está interessado em testar se a proporção real é menor do que a alegada pela empresa."
   ]
  },
  {
   "cell_type": "markdown",
   "metadata": {},
   "source": [
    "Quando falamos de proporção é sempre teste Z"
   ]
  },
  {
   "cell_type": "markdown",
   "metadata": {},
   "source": [
    "Calculando o p-valor <br>\n",
    "Nesta etapa é calculado o p-valor, que para este exemplo, significa a probabilidade de, não rejeitando a H0, que a proporção de usuário seja igual ou mais extrema que a proporção obersavada na amostra.<br>\n"
   ]
  },
  {
   "cell_type": "code",
   "execution_count": 27,
   "metadata": {},
   "outputs": [],
   "source": [
    "import scipy.stats as stats\n",
    "from math import sqrt"
   ]
  },
  {
   "cell_type": "code",
   "execution_count": 28,
   "metadata": {},
   "outputs": [
    {
     "name": "stdout",
     "output_type": "stream",
     "text": [
      "estatistica_z: -0.8452\n",
      "\n",
      "O p-valor vale: 0.19901236\n",
      "\n"
     ]
    }
   ],
   "source": [
    "# Dados\n",
    "proporcao_amostra = 140/200\n",
    "proporcao_pop = 0.75\n",
    "tamanho_amostra = 50\n",
    "\n",
    "# Cáclculo da estatística z\n",
    "estatistica_z = (proporcao_amostra - proporcao_pop) / sqrt((proporcao_amostra * (1 - proporcao_pop)) / tamanho_amostra)\n",
    "\n",
    "print(f'estatistica_z: {estatistica_z:.4f}')\n",
    "print()\n",
    "\n",
    "# Cálculo do p-valor para um teste unilateral à esquerda\n",
    "p_valor = stats.norm.cdf(estatistica_z)\n",
    "print(f'O p-valor vale: {p_valor:.8f}')\n",
    "print()"
   ]
  },
  {
   "cell_type": "markdown",
   "metadata": {},
   "source": [
    "Tomada de decisão <br>\n",
    "Iremos comparar o p-valor e o nível de significância. <br>"
   ]
  },
  {
   "cell_type": "code",
   "execution_count": 29,
   "metadata": {},
   "outputs": [
    {
     "name": "stdout",
     "output_type": "stream",
     "text": [
      "Não rejeitar a hipótese nula: Não há evidências suficientes para concluir que a proporção de usuários satisfeitos é menor que 75%\n"
     ]
    }
   ],
   "source": [
    "# Nível de significância\n",
    "nivel_de_significancia = 0.05\n",
    "\n",
    "# Tomada de decisão\n",
    "if p_valor < nivel_de_significancia:\n",
    "    print('Rejeitar a hipótese nula: Há evidências de que a proporcão de usuários satisfeitos é menor que 75%')\n",
    "else:\n",
    "    print('Não rejeitar a hipótese nula: Não há evidências suficientes para concluir que a proporção de usuários satisfeitos é menor que 75%')"
   ]
  },
  {
   "cell_type": "markdown",
   "metadata": {},
   "source": [
    "Pergunta 7: <br>\n",
    "Temos dois tratamentos para uma determinada condição médica. Tratamento A e Tratamento B. Queremos saber se há uma diferença significativa na eficácia entre os dois tratamentos.\n",
    "\n",
    "<b>Dados</b>\n",
    "\n",
    "* Nº de pacientes que receberam o Tratamento A(n1): 100\n",
    "* Nº de pacientes que receberam o Tratamento B(n2): 100\n",
    "* Nº de pacientes que tiveram sucesso com Tratamento A(x1): 60\n",
    "* Nº de pacientes que tiveram sucesso com o Tratamento B(x2): 75\n",
    "\n",
    "Este é um teste de duas categorias pois temos: <br>\n",
    "* categoria dos pacientes que tiveram sucesso no<b> Tratamento A</b> \n",
    "* categoria dos pacientes que tiveram sucesso no<b>Tratamento B</b>"
   ]
  },
  {
   "cell_type": "markdown",
   "metadata": {},
   "source": [
    "H0: p1 = p2 (não há diferença entre as proporções de sucesso dos tratamentos)\n",
    "Ha: p1 != p2 (há uma diferença entre as proporções de sucesso dos tratamentos)\n",
    "\n",
    "<br>\n",
    "Este é um teste bicaudal, pois estamos testando se há uma diferença em qualquer direção entre as duas proporções."
   ]
  },
  {
   "cell_type": "markdown",
   "metadata": {},
   "source": [
    "Proporção sempre será o teste Z"
   ]
  },
  {
   "cell_type": "markdown",
   "metadata": {},
   "source": [
    "Calculando o p-valor <br>\n",
    "Nesta etapa é calculado o p-valor, que para este exemplo, significa a probabilidade de, não rejeitando a H0, que a proporção de sucesso do Tratamento A seja tão distante da proporção de sucesso do Tratamento B quanto a observada."
   ]
  },
  {
   "cell_type": "code",
   "execution_count": 30,
   "metadata": {},
   "outputs": [],
   "source": [
    "import scipy.stats as stats\n",
    "from math import sqrt"
   ]
  },
  {
   "cell_type": "code",
   "execution_count": 32,
   "metadata": {},
   "outputs": [
    {
     "name": "stdout",
     "output_type": "stream",
     "text": [
      "estatistica_z: -2.2646\n",
      "\n",
      "O p-valor vale: 0.0235\n",
      "\n"
     ]
    }
   ],
   "source": [
    "# Proporções\n",
    "proporcao_amostra_A = 60 / 100\n",
    "proporcao_amostra_B = 75 / 100\n",
    "diferenca_proporcao_pop = 0 # pA - pB = 0\n",
    "\n",
    "# Tamanos\n",
    "tamanho_amostra_A = 100\n",
    "tamanho_amostra_B = 100\n",
    "\n",
    "# Sucesso\n",
    "sucesso_amostra_A = 60\n",
    "sucesso_amostra_B = 75\n",
    "\n",
    "p_ = (sucesso_amostra_A + sucesso_amostra_B) / (tamanho_amostra_A + tamanho_amostra_B)\n",
    "q_ = 1 - p_\n",
    "\n",
    "# Cálculo da estatística z\n",
    "estatistica_z = (((proporcao_amostra_A - proporcao_amostra_B) - (diferenca_proporcao_pop)) / \n",
    "                 sqrt(p_ * q_ * ((1/tamanho_amostra_A) + (1/tamanho_amostra_B))))\n",
    "\n",
    "print(f'estatistica_z: {estatistica_z:.4f}')\n",
    "print()\n",
    "\n",
    "# Cálculo do p-valor para um teste bicaudal\n",
    "p_valor = 2 * stats.norm.cdf(estatistica_z)\n",
    "print(f'O p-valor vale: {p_valor:.4f}')\n",
    "print()"
   ]
  },
  {
   "cell_type": "markdown",
   "metadata": {},
   "source": [
    "Tomada de decisão"
   ]
  },
  {
   "cell_type": "code",
   "execution_count": 33,
   "metadata": {},
   "outputs": [
    {
     "name": "stdout",
     "output_type": "stream",
     "text": [
      "Rejeitar a hipótese nula: Há evidências de que o sucesso dos tratamentos A e B são diferentes\n"
     ]
    }
   ],
   "source": [
    "# Nível de significância\n",
    "nivel_de_significancia = 0.05\n",
    "\n",
    "# Tomada de decisão\n",
    "if p_valor < nivel_de_significancia:\n",
    "    print(f'Rejeitar a hipótese nula: Há evidências de que o sucesso dos tratamentos A e B são diferentes')\n",
    "else:\n",
    "    print(f'Não rejeitar a hipótese nula: Não há evidências suficientes para concluir que o sucesso dos tratamentos A e B são diferentes')"
   ]
  }
 ],
 "metadata": {
  "kernelspec": {
   "display_name": "venv",
   "language": "python",
   "name": "python3"
  },
  "language_info": {
   "codemirror_mode": {
    "name": "ipython",
    "version": 3
   },
   "file_extension": ".py",
   "mimetype": "text/x-python",
   "name": "python",
   "nbconvert_exporter": "python",
   "pygments_lexer": "ipython3",
   "version": "3.12.3"
  }
 },
 "nbformat": 4,
 "nbformat_minor": 2
}
